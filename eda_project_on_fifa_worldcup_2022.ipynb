{
  "cells": [
    {
      "cell_type": "markdown",
      "id": "5547f607",
      "metadata": {
        "id": "5547f607",
        "papermill": {
          "duration": 0.010849,
          "end_time": "2023-01-28T07:02:02.868011",
          "exception": false,
          "start_time": "2023-01-28T07:02:02.857162",
          "status": "completed"
        },
        "tags": []
      },
      "source": [
        "# **FIFA-WORLDCUP 2022**\n",
        "This project aims to analyze data from the 2022 FIFA World Cup, which is considered the most prestigious international soccer tournament. We will use data visualization and statistical methods to gain insights into team and player performance. Specifically, we will explore possession percentages, the impact of possession on goal scoring, and compare attempts on goal for teams. Additionally, we will examine the distribution of goals scored by each team in the tournament."
      ]
    },
    {
      "cell_type": "markdown",
      "id": "22a63985",
      "metadata": {
        "id": "22a63985",
        "papermill": {
          "duration": 0.00945,
          "end_time": "2023-01-28T07:02:02.926362",
          "exception": false,
          "start_time": "2023-01-28T07:02:02.916912",
          "status": "completed"
        },
        "tags": []
      },
      "source": [
        "**import numpy and pandas libraries**"
      ]
    },
    {
      "cell_type": "code",
      "execution_count": 1,
      "id": "8a5c69c9",
      "metadata": {
        "execution": {
          "iopub.execute_input": "2023-01-28T07:02:02.949327Z",
          "iopub.status.busy": "2023-01-28T07:02:02.948835Z",
          "iopub.status.idle": "2023-01-28T07:02:02.959098Z",
          "shell.execute_reply": "2023-01-28T07:02:02.958196Z"
        },
        "id": "8a5c69c9",
        "papermill": {
          "duration": 0.024657,
          "end_time": "2023-01-28T07:02:02.961765",
          "exception": false,
          "start_time": "2023-01-28T07:02:02.937108",
          "status": "completed"
        },
        "tags": []
      },
      "outputs": [],
      "source": [
        "import pandas as pd\n",
        "import numpy as np"
      ]
    },
    {
      "cell_type": "code",
      "execution_count": 3,
      "id": "c64ffe9a",
      "metadata": {
        "id": "c64ffe9a"
      },
      "outputs": [],
      "source": [
        "def read_data(path):\n",
        "    dfdata=pd.read_csv(path)\n",
        "    return dfdata"
      ]
    },
    {
      "cell_type": "code",
      "execution_count": 4,
      "id": "e5514616",
      "metadata": {
        "execution": {
          "iopub.execute_input": "2023-01-28T07:02:03.052667Z",
          "iopub.status.busy": "2023-01-28T07:02:03.051883Z",
          "iopub.status.idle": "2023-01-28T07:02:03.100674Z",
          "shell.execute_reply": "2023-01-28T07:02:03.099278Z"
        },
        "id": "e5514616",
        "papermill": {
          "duration": 0.063201,
          "end_time": "2023-01-28T07:02:03.104195",
          "exception": false,
          "start_time": "2023-01-28T07:02:03.040994",
          "status": "completed"
        },
        "tags": []
      },
      "outputs": [],
      "source": [
        "df=read_data(\"Fifa_world_cup_matches.csv\")"
      ]
    },
    {
      "cell_type": "code",
      "execution_count": 5,
      "id": "f442af09",
      "metadata": {
        "colab": {
          "base_uri": "https://localhost:8080/"
        },
        "execution": {
          "iopub.execute_input": "2023-01-28T07:02:03.146863Z",
          "iopub.status.busy": "2023-01-28T07:02:03.146442Z",
          "iopub.status.idle": "2023-01-28T07:02:03.154706Z",
          "shell.execute_reply": "2023-01-28T07:02:03.153518Z"
        },
        "id": "f442af09",
        "outputId": "19e86f1a-ee0b-49e5-df50-46ace7c570c1",
        "papermill": {
          "duration": 0.02208,
          "end_time": "2023-01-28T07:02:03.156945",
          "exception": false,
          "start_time": "2023-01-28T07:02:03.134865",
          "status": "completed"
        },
        "tags": []
      },
      "outputs": [
        {
          "output_type": "execute_result",
          "data": {
            "text/plain": [
              "Index(['team1', 'team2', 'possession team1', 'possession team2',\n",
              "       'possession in contest', 'number of goals team1',\n",
              "       'number of goals team2', 'date', 'hour', 'category',\n",
              "       'total attempts team1', 'total attempts team2', 'conceded team1',\n",
              "       'conceded team2', 'goal inside the penalty area team1',\n",
              "       'goal inside the penalty area team2',\n",
              "       'goal outside the penalty area team1',\n",
              "       'goal outside the penalty area team2', 'assists team1', 'assists team2',\n",
              "       'on target attempts team1', 'on target attempts team2',\n",
              "       'off target attempts team1', 'off target attempts team2',\n",
              "       'attempts inside the penalty area team1',\n",
              "       'attempts inside the penalty area  team2',\n",
              "       'attempts outside the penalty area  team1',\n",
              "       'attempts outside the penalty area  team2', 'left channel team1',\n",
              "       'left channel team2', 'left inside channel team1',\n",
              "       'left inside channel team2', 'central channel team1',\n",
              "       'central channel team2', 'right inside channel team1',\n",
              "       'right inside channel team2', 'right channel team1',\n",
              "       'right channel team2', 'total offers to receive team1',\n",
              "       'total offers to receive team2', 'inbehind offers to receive team1',\n",
              "       'inbehind offers to receive team2', 'inbetween offers to receive team1',\n",
              "       'inbetween offers to receive team2', 'infront offers to receive team1',\n",
              "       'infront offers to receive team2',\n",
              "       'receptions between midfield and defensive lines team1',\n",
              "       'receptions between midfield and defensive lines team2',\n",
              "       'attempted line breaks team1', 'attempted line breaks team2',\n",
              "       'completed line breaksteam1', 'completed line breaks team2',\n",
              "       'attempted defensive line breaks team1',\n",
              "       'attempted defensive line breaks team2',\n",
              "       'completed defensive line breaksteam1',\n",
              "       'completed defensive line breaks team2', 'yellow cards team1',\n",
              "       'yellow cards team2', 'red cards team1', 'red cards team2',\n",
              "       'fouls against team1', 'fouls against team2', 'offsides team1',\n",
              "       'offsides team2', 'passes team1', 'passes team2',\n",
              "       'passes completed team1', 'passes completed team2', 'crosses team1',\n",
              "       'crosses team2', 'crosses completed team1', 'crosses completed team2',\n",
              "       'switches of play completed team1', 'switches of play completed team2',\n",
              "       'corners team1', 'corners team2', 'free kicks team1',\n",
              "       'free kicks team2', 'penalties scored team1', 'penalties scored team2',\n",
              "       'goal preventions team1', 'goal preventions team2', 'own goals team1',\n",
              "       'own goals team2', 'forced turnovers team1', 'forced turnovers team2',\n",
              "       'defensive pressures applied team1',\n",
              "       'defensive pressures applied team2'],\n",
              "      dtype='object')"
            ]
          },
          "metadata": {},
          "execution_count": 5
        }
      ],
      "source": [
        "df.columns"
      ]
    },
    {
      "cell_type": "code",
      "execution_count": 6,
      "id": "ae84a32d",
      "metadata": {
        "colab": {
          "base_uri": "https://localhost:8080/",
          "height": 525
        },
        "execution": {
          "iopub.execute_input": "2023-01-28T07:02:03.180240Z",
          "iopub.status.busy": "2023-01-28T07:02:03.179742Z",
          "iopub.status.idle": "2023-01-28T07:02:03.206254Z",
          "shell.execute_reply": "2023-01-28T07:02:03.205033Z"
        },
        "id": "ae84a32d",
        "outputId": "9575be13-a924-4956-ec7d-83986795fbcc",
        "papermill": {
          "duration": 0.041462,
          "end_time": "2023-01-28T07:02:03.209026",
          "exception": false,
          "start_time": "2023-01-28T07:02:03.167564",
          "status": "completed"
        },
        "tags": []
      },
      "outputs": [
        {
          "output_type": "execute_result",
          "data": {
            "text/plain": [
              "           team1         team2 possession team1 possession team2  \\\n",
              "0          QATAR       ECUADOR              42%              50%   \n",
              "1        ENGLAND          IRAN              72%              19%   \n",
              "2        SENEGAL   NETHERLANDS              44%              45%   \n",
              "3  UNITED STATES         WALES              51%              39%   \n",
              "4      ARGENTINA  SAUDI ARABIA              64%              24%   \n",
              "\n",
              "  possession in contest  number of goals team1  number of goals team2  \\\n",
              "0                    8%                      0                      2   \n",
              "1                    9%                      6                      2   \n",
              "2                   11%                      0                      2   \n",
              "3                   10%                      1                      1   \n",
              "4                   12%                      1                      2   \n",
              "\n",
              "          date     hour category  ...  penalties scored team1  \\\n",
              "0  20 NOV 2022  17 : 00  Group A  ...                       0   \n",
              "1  21 NOV 2022  14 : 00  Group B  ...                       0   \n",
              "2  21 NOV 2022  17 : 00  Group A  ...                       0   \n",
              "3  21 NOV 2022  20 : 00  Group B  ...                       0   \n",
              "4  22 NOV 2022  11 : 00  Group C  ...                       1   \n",
              "\n",
              "   penalties scored team2  goal preventions team1  goal preventions team2  \\\n",
              "0                       1                       6                       5   \n",
              "1                       1                       8                      13   \n",
              "2                       0                       9                      15   \n",
              "3                       1                       7                       7   \n",
              "4                       0                       4                      14   \n",
              "\n",
              "   own goals team1  own goals team2  forced turnovers team1  \\\n",
              "0                0                0                      52   \n",
              "1                0                0                      63   \n",
              "2                0                0                      63   \n",
              "3                0                0                      81   \n",
              "4                0                0                      65   \n",
              "\n",
              "   forced turnovers team2  defensive pressures applied team1  \\\n",
              "0                      72                                256   \n",
              "1                      72                                139   \n",
              "2                      73                                263   \n",
              "3                      72                                242   \n",
              "4                      80                                163   \n",
              "\n",
              "   defensive pressures applied team2  \n",
              "0                                279  \n",
              "1                                416  \n",
              "2                                251  \n",
              "3                                292  \n",
              "4                                361  \n",
              "\n",
              "[5 rows x 88 columns]"
            ],
            "text/html": [
              "\n",
              "  <div id=\"df-4d4fe357-2f6c-478b-9b7b-ca516090be74\">\n",
              "    <div class=\"colab-df-container\">\n",
              "      <div>\n",
              "<style scoped>\n",
              "    .dataframe tbody tr th:only-of-type {\n",
              "        vertical-align: middle;\n",
              "    }\n",
              "\n",
              "    .dataframe tbody tr th {\n",
              "        vertical-align: top;\n",
              "    }\n",
              "\n",
              "    .dataframe thead th {\n",
              "        text-align: right;\n",
              "    }\n",
              "</style>\n",
              "<table border=\"1\" class=\"dataframe\">\n",
              "  <thead>\n",
              "    <tr style=\"text-align: right;\">\n",
              "      <th></th>\n",
              "      <th>team1</th>\n",
              "      <th>team2</th>\n",
              "      <th>possession team1</th>\n",
              "      <th>possession team2</th>\n",
              "      <th>possession in contest</th>\n",
              "      <th>number of goals team1</th>\n",
              "      <th>number of goals team2</th>\n",
              "      <th>date</th>\n",
              "      <th>hour</th>\n",
              "      <th>category</th>\n",
              "      <th>...</th>\n",
              "      <th>penalties scored team1</th>\n",
              "      <th>penalties scored team2</th>\n",
              "      <th>goal preventions team1</th>\n",
              "      <th>goal preventions team2</th>\n",
              "      <th>own goals team1</th>\n",
              "      <th>own goals team2</th>\n",
              "      <th>forced turnovers team1</th>\n",
              "      <th>forced turnovers team2</th>\n",
              "      <th>defensive pressures applied team1</th>\n",
              "      <th>defensive pressures applied team2</th>\n",
              "    </tr>\n",
              "  </thead>\n",
              "  <tbody>\n",
              "    <tr>\n",
              "      <th>0</th>\n",
              "      <td>QATAR</td>\n",
              "      <td>ECUADOR</td>\n",
              "      <td>42%</td>\n",
              "      <td>50%</td>\n",
              "      <td>8%</td>\n",
              "      <td>0</td>\n",
              "      <td>2</td>\n",
              "      <td>20 NOV 2022</td>\n",
              "      <td>17 : 00</td>\n",
              "      <td>Group A</td>\n",
              "      <td>...</td>\n",
              "      <td>0</td>\n",
              "      <td>1</td>\n",
              "      <td>6</td>\n",
              "      <td>5</td>\n",
              "      <td>0</td>\n",
              "      <td>0</td>\n",
              "      <td>52</td>\n",
              "      <td>72</td>\n",
              "      <td>256</td>\n",
              "      <td>279</td>\n",
              "    </tr>\n",
              "    <tr>\n",
              "      <th>1</th>\n",
              "      <td>ENGLAND</td>\n",
              "      <td>IRAN</td>\n",
              "      <td>72%</td>\n",
              "      <td>19%</td>\n",
              "      <td>9%</td>\n",
              "      <td>6</td>\n",
              "      <td>2</td>\n",
              "      <td>21 NOV 2022</td>\n",
              "      <td>14 : 00</td>\n",
              "      <td>Group B</td>\n",
              "      <td>...</td>\n",
              "      <td>0</td>\n",
              "      <td>1</td>\n",
              "      <td>8</td>\n",
              "      <td>13</td>\n",
              "      <td>0</td>\n",
              "      <td>0</td>\n",
              "      <td>63</td>\n",
              "      <td>72</td>\n",
              "      <td>139</td>\n",
              "      <td>416</td>\n",
              "    </tr>\n",
              "    <tr>\n",
              "      <th>2</th>\n",
              "      <td>SENEGAL</td>\n",
              "      <td>NETHERLANDS</td>\n",
              "      <td>44%</td>\n",
              "      <td>45%</td>\n",
              "      <td>11%</td>\n",
              "      <td>0</td>\n",
              "      <td>2</td>\n",
              "      <td>21 NOV 2022</td>\n",
              "      <td>17 : 00</td>\n",
              "      <td>Group A</td>\n",
              "      <td>...</td>\n",
              "      <td>0</td>\n",
              "      <td>0</td>\n",
              "      <td>9</td>\n",
              "      <td>15</td>\n",
              "      <td>0</td>\n",
              "      <td>0</td>\n",
              "      <td>63</td>\n",
              "      <td>73</td>\n",
              "      <td>263</td>\n",
              "      <td>251</td>\n",
              "    </tr>\n",
              "    <tr>\n",
              "      <th>3</th>\n",
              "      <td>UNITED STATES</td>\n",
              "      <td>WALES</td>\n",
              "      <td>51%</td>\n",
              "      <td>39%</td>\n",
              "      <td>10%</td>\n",
              "      <td>1</td>\n",
              "      <td>1</td>\n",
              "      <td>21 NOV 2022</td>\n",
              "      <td>20 : 00</td>\n",
              "      <td>Group B</td>\n",
              "      <td>...</td>\n",
              "      <td>0</td>\n",
              "      <td>1</td>\n",
              "      <td>7</td>\n",
              "      <td>7</td>\n",
              "      <td>0</td>\n",
              "      <td>0</td>\n",
              "      <td>81</td>\n",
              "      <td>72</td>\n",
              "      <td>242</td>\n",
              "      <td>292</td>\n",
              "    </tr>\n",
              "    <tr>\n",
              "      <th>4</th>\n",
              "      <td>ARGENTINA</td>\n",
              "      <td>SAUDI ARABIA</td>\n",
              "      <td>64%</td>\n",
              "      <td>24%</td>\n",
              "      <td>12%</td>\n",
              "      <td>1</td>\n",
              "      <td>2</td>\n",
              "      <td>22 NOV 2022</td>\n",
              "      <td>11 : 00</td>\n",
              "      <td>Group C</td>\n",
              "      <td>...</td>\n",
              "      <td>1</td>\n",
              "      <td>0</td>\n",
              "      <td>4</td>\n",
              "      <td>14</td>\n",
              "      <td>0</td>\n",
              "      <td>0</td>\n",
              "      <td>65</td>\n",
              "      <td>80</td>\n",
              "      <td>163</td>\n",
              "      <td>361</td>\n",
              "    </tr>\n",
              "  </tbody>\n",
              "</table>\n",
              "<p>5 rows × 88 columns</p>\n",
              "</div>\n",
              "      <button class=\"colab-df-convert\" onclick=\"convertToInteractive('df-4d4fe357-2f6c-478b-9b7b-ca516090be74')\"\n",
              "              title=\"Convert this dataframe to an interactive table.\"\n",
              "              style=\"display:none;\">\n",
              "        \n",
              "  <svg xmlns=\"http://www.w3.org/2000/svg\" height=\"24px\"viewBox=\"0 0 24 24\"\n",
              "       width=\"24px\">\n",
              "    <path d=\"M0 0h24v24H0V0z\" fill=\"none\"/>\n",
              "    <path d=\"M18.56 5.44l.94 2.06.94-2.06 2.06-.94-2.06-.94-.94-2.06-.94 2.06-2.06.94zm-11 1L8.5 8.5l.94-2.06 2.06-.94-2.06-.94L8.5 2.5l-.94 2.06-2.06.94zm10 10l.94 2.06.94-2.06 2.06-.94-2.06-.94-.94-2.06-.94 2.06-2.06.94z\"/><path d=\"M17.41 7.96l-1.37-1.37c-.4-.4-.92-.59-1.43-.59-.52 0-1.04.2-1.43.59L10.3 9.45l-7.72 7.72c-.78.78-.78 2.05 0 2.83L4 21.41c.39.39.9.59 1.41.59.51 0 1.02-.2 1.41-.59l7.78-7.78 2.81-2.81c.8-.78.8-2.07 0-2.86zM5.41 20L4 18.59l7.72-7.72 1.47 1.35L5.41 20z\"/>\n",
              "  </svg>\n",
              "      </button>\n",
              "      \n",
              "  <style>\n",
              "    .colab-df-container {\n",
              "      display:flex;\n",
              "      flex-wrap:wrap;\n",
              "      gap: 12px;\n",
              "    }\n",
              "\n",
              "    .colab-df-convert {\n",
              "      background-color: #E8F0FE;\n",
              "      border: none;\n",
              "      border-radius: 50%;\n",
              "      cursor: pointer;\n",
              "      display: none;\n",
              "      fill: #1967D2;\n",
              "      height: 32px;\n",
              "      padding: 0 0 0 0;\n",
              "      width: 32px;\n",
              "    }\n",
              "\n",
              "    .colab-df-convert:hover {\n",
              "      background-color: #E2EBFA;\n",
              "      box-shadow: 0px 1px 2px rgba(60, 64, 67, 0.3), 0px 1px 3px 1px rgba(60, 64, 67, 0.15);\n",
              "      fill: #174EA6;\n",
              "    }\n",
              "\n",
              "    [theme=dark] .colab-df-convert {\n",
              "      background-color: #3B4455;\n",
              "      fill: #D2E3FC;\n",
              "    }\n",
              "\n",
              "    [theme=dark] .colab-df-convert:hover {\n",
              "      background-color: #434B5C;\n",
              "      box-shadow: 0px 1px 3px 1px rgba(0, 0, 0, 0.15);\n",
              "      filter: drop-shadow(0px 1px 2px rgba(0, 0, 0, 0.3));\n",
              "      fill: #FFFFFF;\n",
              "    }\n",
              "  </style>\n",
              "\n",
              "      <script>\n",
              "        const buttonEl =\n",
              "          document.querySelector('#df-4d4fe357-2f6c-478b-9b7b-ca516090be74 button.colab-df-convert');\n",
              "        buttonEl.style.display =\n",
              "          google.colab.kernel.accessAllowed ? 'block' : 'none';\n",
              "\n",
              "        async function convertToInteractive(key) {\n",
              "          const element = document.querySelector('#df-4d4fe357-2f6c-478b-9b7b-ca516090be74');\n",
              "          const dataTable =\n",
              "            await google.colab.kernel.invokeFunction('convertToInteractive',\n",
              "                                                     [key], {});\n",
              "          if (!dataTable) return;\n",
              "\n",
              "          const docLinkHtml = 'Like what you see? Visit the ' +\n",
              "            '<a target=\"_blank\" href=https://colab.research.google.com/notebooks/data_table.ipynb>data table notebook</a>'\n",
              "            + ' to learn more about interactive tables.';\n",
              "          element.innerHTML = '';\n",
              "          dataTable['output_type'] = 'display_data';\n",
              "          await google.colab.output.renderOutput(dataTable, element);\n",
              "          const docLink = document.createElement('div');\n",
              "          docLink.innerHTML = docLinkHtml;\n",
              "          element.appendChild(docLink);\n",
              "        }\n",
              "      </script>\n",
              "    </div>\n",
              "  </div>\n",
              "  "
            ]
          },
          "metadata": {},
          "execution_count": 6
        }
      ],
      "source": [
        "df.head()"
      ]
    },
    {
      "cell_type": "code",
      "execution_count": 7,
      "id": "8d2fc512",
      "metadata": {
        "colab": {
          "base_uri": "https://localhost:8080/"
        },
        "execution": {
          "iopub.execute_input": "2023-01-28T07:02:03.283930Z",
          "iopub.status.busy": "2023-01-28T07:02:03.283487Z",
          "iopub.status.idle": "2023-01-28T07:02:03.313818Z",
          "shell.execute_reply": "2023-01-28T07:02:03.312272Z"
        },
        "id": "8d2fc512",
        "outputId": "735da362-cd1a-4f94-ee38-9d57424adfbb",
        "papermill": {
          "duration": 0.046839,
          "end_time": "2023-01-28T07:02:03.317844",
          "exception": false,
          "start_time": "2023-01-28T07:02:03.271005",
          "status": "completed"
        },
        "tags": []
      },
      "outputs": [
        {
          "output_type": "stream",
          "name": "stdout",
          "text": [
            "<class 'pandas.core.frame.DataFrame'>\n",
            "RangeIndex: 64 entries, 0 to 63\n",
            "Data columns (total 88 columns):\n",
            " #   Column                                                 Non-Null Count  Dtype \n",
            "---  ------                                                 --------------  ----- \n",
            " 0   team1                                                  64 non-null     object\n",
            " 1   team2                                                  64 non-null     object\n",
            " 2   possession team1                                       64 non-null     object\n",
            " 3   possession team2                                       64 non-null     object\n",
            " 4   possession in contest                                  64 non-null     object\n",
            " 5   number of goals team1                                  64 non-null     int64 \n",
            " 6   number of goals team2                                  64 non-null     int64 \n",
            " 7   date                                                   64 non-null     object\n",
            " 8   hour                                                   64 non-null     object\n",
            " 9   category                                               64 non-null     object\n",
            " 10  total attempts team1                                   64 non-null     int64 \n",
            " 11  total attempts team2                                   64 non-null     int64 \n",
            " 12  conceded team1                                         64 non-null     int64 \n",
            " 13  conceded team2                                         64 non-null     int64 \n",
            " 14  goal inside the penalty area team1                     64 non-null     int64 \n",
            " 15  goal inside the penalty area team2                     64 non-null     int64 \n",
            " 16  goal outside the penalty area team1                    64 non-null     int64 \n",
            " 17  goal outside the penalty area team2                    64 non-null     int64 \n",
            " 18  assists team1                                          64 non-null     int64 \n",
            " 19  assists team2                                          64 non-null     int64 \n",
            " 20  on target attempts team1                               64 non-null     int64 \n",
            " 21  on target attempts team2                               64 non-null     int64 \n",
            " 22  off target attempts team1                              64 non-null     int64 \n",
            " 23  off target attempts team2                              64 non-null     int64 \n",
            " 24  attempts inside the penalty area team1                 64 non-null     int64 \n",
            " 25  attempts inside the penalty area  team2                64 non-null     int64 \n",
            " 26  attempts outside the penalty area  team1               64 non-null     int64 \n",
            " 27  attempts outside the penalty area  team2               64 non-null     int64 \n",
            " 28  left channel team1                                     64 non-null     int64 \n",
            " 29  left channel team2                                     64 non-null     int64 \n",
            " 30  left inside channel team1                              64 non-null     int64 \n",
            " 31  left inside channel team2                              64 non-null     int64 \n",
            " 32  central channel team1                                  64 non-null     int64 \n",
            " 33  central channel team2                                  64 non-null     int64 \n",
            " 34  right inside channel team1                             64 non-null     int64 \n",
            " 35  right inside channel team2                             64 non-null     int64 \n",
            " 36  right channel team1                                    64 non-null     int64 \n",
            " 37  right channel team2                                    64 non-null     int64 \n",
            " 38  total offers to receive team1                          64 non-null     int64 \n",
            " 39  total offers to receive team2                          64 non-null     int64 \n",
            " 40  inbehind offers to receive team1                       64 non-null     int64 \n",
            " 41  inbehind offers to receive team2                       64 non-null     int64 \n",
            " 42  inbetween offers to receive team1                      64 non-null     int64 \n",
            " 43  inbetween offers to receive team2                      64 non-null     int64 \n",
            " 44  infront offers to receive team1                        64 non-null     int64 \n",
            " 45  infront offers to receive team2                        64 non-null     int64 \n",
            " 46  receptions between midfield and defensive lines team1  64 non-null     int64 \n",
            " 47  receptions between midfield and defensive lines team2  64 non-null     int64 \n",
            " 48  attempted line breaks team1                            64 non-null     int64 \n",
            " 49  attempted line breaks team2                            64 non-null     int64 \n",
            " 50  completed line breaksteam1                             64 non-null     int64 \n",
            " 51  completed line breaks team2                            64 non-null     int64 \n",
            " 52  attempted defensive line breaks team1                  64 non-null     int64 \n",
            " 53  attempted defensive line breaks team2                  64 non-null     int64 \n",
            " 54  completed defensive line breaksteam1                   64 non-null     int64 \n",
            " 55  completed defensive line breaks team2                  64 non-null     int64 \n",
            " 56  yellow cards team1                                     64 non-null     int64 \n",
            " 57  yellow cards team2                                     64 non-null     int64 \n",
            " 58  red cards team1                                        64 non-null     int64 \n",
            " 59  red cards team2                                        64 non-null     int64 \n",
            " 60  fouls against team1                                    64 non-null     int64 \n",
            " 61  fouls against team2                                    64 non-null     int64 \n",
            " 62  offsides team1                                         64 non-null     int64 \n",
            " 63  offsides team2                                         64 non-null     int64 \n",
            " 64  passes team1                                           64 non-null     int64 \n",
            " 65  passes team2                                           64 non-null     int64 \n",
            " 66  passes completed team1                                 64 non-null     int64 \n",
            " 67  passes completed team2                                 64 non-null     int64 \n",
            " 68  crosses team1                                          64 non-null     int64 \n",
            " 69  crosses team2                                          64 non-null     int64 \n",
            " 70  crosses completed team1                                64 non-null     int64 \n",
            " 71  crosses completed team2                                64 non-null     int64 \n",
            " 72  switches of play completed team1                       64 non-null     int64 \n",
            " 73  switches of play completed team2                       64 non-null     int64 \n",
            " 74  corners team1                                          64 non-null     int64 \n",
            " 75  corners team2                                          64 non-null     int64 \n",
            " 76  free kicks team1                                       64 non-null     int64 \n",
            " 77  free kicks team2                                       64 non-null     int64 \n",
            " 78  penalties scored team1                                 64 non-null     int64 \n",
            " 79  penalties scored team2                                 64 non-null     int64 \n",
            " 80  goal preventions team1                                 64 non-null     int64 \n",
            " 81  goal preventions team2                                 64 non-null     int64 \n",
            " 82  own goals team1                                        64 non-null     int64 \n",
            " 83  own goals team2                                        64 non-null     int64 \n",
            " 84  forced turnovers team1                                 64 non-null     int64 \n",
            " 85  forced turnovers team2                                 64 non-null     int64 \n",
            " 86  defensive pressures applied team1                      64 non-null     int64 \n",
            " 87  defensive pressures applied team2                      64 non-null     int64 \n",
            "dtypes: int64(80), object(8)\n",
            "memory usage: 44.1+ KB\n"
          ]
        }
      ],
      "source": [
        "df.info()"
      ]
    },
    {
      "cell_type": "code",
      "execution_count": 8,
      "id": "d671c260",
      "metadata": {
        "colab": {
          "base_uri": "https://localhost:8080/",
          "height": 480
        },
        "execution": {
          "iopub.execute_input": "2023-01-28T07:02:03.344646Z",
          "iopub.status.busy": "2023-01-28T07:02:03.343683Z",
          "iopub.status.idle": "2023-01-28T07:02:03.534677Z",
          "shell.execute_reply": "2023-01-28T07:02:03.533433Z"
        },
        "id": "d671c260",
        "outputId": "9dcfd45b-0549-4640-82ec-b434ad61d792",
        "papermill": {
          "duration": 0.206771,
          "end_time": "2023-01-28T07:02:03.537592",
          "exception": false,
          "start_time": "2023-01-28T07:02:03.330821",
          "status": "completed"
        },
        "tags": []
      },
      "outputs": [
        {
          "output_type": "execute_result",
          "data": {
            "text/plain": [
              "       number of goals team1  number of goals team2  total attempts team1  \\\n",
              "count              64.000000              64.000000             64.000000   \n",
              "mean                1.578125               1.109375             11.140625   \n",
              "std                 1.551289               1.055856              4.972519   \n",
              "min                 0.000000               0.000000              2.000000   \n",
              "25%                 0.000000               0.000000              8.000000   \n",
              "50%                 1.000000               1.000000             10.000000   \n",
              "75%                 2.000000               2.000000             14.000000   \n",
              "max                 7.000000               4.000000             25.000000   \n",
              "\n",
              "       total attempts team2  conceded team1  conceded team2  \\\n",
              "count             64.000000       64.000000       64.000000   \n",
              "mean              11.281250        1.109375        1.578125   \n",
              "std                5.807682        1.055856        1.551289   \n",
              "min                0.000000        0.000000        0.000000   \n",
              "25%                7.750000        0.000000        0.000000   \n",
              "50%               10.000000        1.000000        1.000000   \n",
              "75%               14.000000        2.000000        2.000000   \n",
              "max               32.000000        4.000000        7.000000   \n",
              "\n",
              "       goal inside the penalty area team1  goal inside the penalty area team2  \\\n",
              "count                           64.000000                           64.000000   \n",
              "mean                             1.468750                            0.984375   \n",
              "std                              1.563155                            0.999876   \n",
              "min                              0.000000                            0.000000   \n",
              "25%                              0.000000                            0.000000   \n",
              "50%                              1.000000                            1.000000   \n",
              "75%                              2.000000                            2.000000   \n",
              "max                              7.000000                            4.000000   \n",
              "\n",
              "       goal outside the penalty area team1  \\\n",
              "count                            64.000000   \n",
              "mean                              0.093750   \n",
              "std                               0.293785   \n",
              "min                               0.000000   \n",
              "25%                               0.000000   \n",
              "50%                               0.000000   \n",
              "75%                               0.000000   \n",
              "max                               1.000000   \n",
              "\n",
              "       goal outside the penalty area team2  ...  penalties scored team1  \\\n",
              "count                            64.000000  ...               64.000000   \n",
              "mean                              0.109375  ...                0.140625   \n",
              "std                               0.314576  ...                0.350382   \n",
              "min                               0.000000  ...                0.000000   \n",
              "25%                               0.000000  ...                0.000000   \n",
              "50%                               0.000000  ...                0.000000   \n",
              "75%                               0.000000  ...                0.000000   \n",
              "max                               1.000000  ...                1.000000   \n",
              "\n",
              "       penalties scored team2  goal preventions team1  goal preventions team2  \\\n",
              "count               64.000000               64.000000               64.000000   \n",
              "mean                 0.125000               11.593750               11.359375   \n",
              "std                  0.377964                5.911299                4.990045   \n",
              "min                  0.000000                0.000000                2.000000   \n",
              "25%                  0.000000                7.750000                8.000000   \n",
              "50%                  0.000000               11.000000               10.000000   \n",
              "75%                  0.000000               14.000000               14.000000   \n",
              "max                  2.000000               32.000000               26.000000   \n",
              "\n",
              "       own goals team1  own goals team2  forced turnovers team1  \\\n",
              "count        64.000000        64.000000               64.000000   \n",
              "mean          0.015625         0.015625               71.968750   \n",
              "std           0.125000         0.125000               14.394629   \n",
              "min           0.000000         0.000000               38.000000   \n",
              "25%           0.000000         0.000000               63.000000   \n",
              "50%           0.000000         0.000000               71.000000   \n",
              "75%           0.000000         0.000000               83.500000   \n",
              "max           1.000000         1.000000              101.000000   \n",
              "\n",
              "       forced turnovers team2  defensive pressures applied team1  \\\n",
              "count               64.000000                          64.000000   \n",
              "mean                70.125000                         289.750000   \n",
              "std                 13.531269                          88.406888   \n",
              "min                 44.000000                         139.000000   \n",
              "25%                 60.250000                         229.000000   \n",
              "50%                 72.000000                         281.000000   \n",
              "75%                 79.000000                         328.000000   \n",
              "max                104.000000                         637.000000   \n",
              "\n",
              "       defensive pressures applied team2  \n",
              "count                          64.000000  \n",
              "mean                          293.265625  \n",
              "std                            80.916230  \n",
              "min                           141.000000  \n",
              "25%                           233.750000  \n",
              "50%                           292.500000  \n",
              "75%                           327.500000  \n",
              "max                           585.000000  \n",
              "\n",
              "[8 rows x 80 columns]"
            ],
            "text/html": [
              "\n",
              "  <div id=\"df-b36bbc70-e7ea-4ad8-8271-81963a0cb07b\">\n",
              "    <div class=\"colab-df-container\">\n",
              "      <div>\n",
              "<style scoped>\n",
              "    .dataframe tbody tr th:only-of-type {\n",
              "        vertical-align: middle;\n",
              "    }\n",
              "\n",
              "    .dataframe tbody tr th {\n",
              "        vertical-align: top;\n",
              "    }\n",
              "\n",
              "    .dataframe thead th {\n",
              "        text-align: right;\n",
              "    }\n",
              "</style>\n",
              "<table border=\"1\" class=\"dataframe\">\n",
              "  <thead>\n",
              "    <tr style=\"text-align: right;\">\n",
              "      <th></th>\n",
              "      <th>number of goals team1</th>\n",
              "      <th>number of goals team2</th>\n",
              "      <th>total attempts team1</th>\n",
              "      <th>total attempts team2</th>\n",
              "      <th>conceded team1</th>\n",
              "      <th>conceded team2</th>\n",
              "      <th>goal inside the penalty area team1</th>\n",
              "      <th>goal inside the penalty area team2</th>\n",
              "      <th>goal outside the penalty area team1</th>\n",
              "      <th>goal outside the penalty area team2</th>\n",
              "      <th>...</th>\n",
              "      <th>penalties scored team1</th>\n",
              "      <th>penalties scored team2</th>\n",
              "      <th>goal preventions team1</th>\n",
              "      <th>goal preventions team2</th>\n",
              "      <th>own goals team1</th>\n",
              "      <th>own goals team2</th>\n",
              "      <th>forced turnovers team1</th>\n",
              "      <th>forced turnovers team2</th>\n",
              "      <th>defensive pressures applied team1</th>\n",
              "      <th>defensive pressures applied team2</th>\n",
              "    </tr>\n",
              "  </thead>\n",
              "  <tbody>\n",
              "    <tr>\n",
              "      <th>count</th>\n",
              "      <td>64.000000</td>\n",
              "      <td>64.000000</td>\n",
              "      <td>64.000000</td>\n",
              "      <td>64.000000</td>\n",
              "      <td>64.000000</td>\n",
              "      <td>64.000000</td>\n",
              "      <td>64.000000</td>\n",
              "      <td>64.000000</td>\n",
              "      <td>64.000000</td>\n",
              "      <td>64.000000</td>\n",
              "      <td>...</td>\n",
              "      <td>64.000000</td>\n",
              "      <td>64.000000</td>\n",
              "      <td>64.000000</td>\n",
              "      <td>64.000000</td>\n",
              "      <td>64.000000</td>\n",
              "      <td>64.000000</td>\n",
              "      <td>64.000000</td>\n",
              "      <td>64.000000</td>\n",
              "      <td>64.000000</td>\n",
              "      <td>64.000000</td>\n",
              "    </tr>\n",
              "    <tr>\n",
              "      <th>mean</th>\n",
              "      <td>1.578125</td>\n",
              "      <td>1.109375</td>\n",
              "      <td>11.140625</td>\n",
              "      <td>11.281250</td>\n",
              "      <td>1.109375</td>\n",
              "      <td>1.578125</td>\n",
              "      <td>1.468750</td>\n",
              "      <td>0.984375</td>\n",
              "      <td>0.093750</td>\n",
              "      <td>0.109375</td>\n",
              "      <td>...</td>\n",
              "      <td>0.140625</td>\n",
              "      <td>0.125000</td>\n",
              "      <td>11.593750</td>\n",
              "      <td>11.359375</td>\n",
              "      <td>0.015625</td>\n",
              "      <td>0.015625</td>\n",
              "      <td>71.968750</td>\n",
              "      <td>70.125000</td>\n",
              "      <td>289.750000</td>\n",
              "      <td>293.265625</td>\n",
              "    </tr>\n",
              "    <tr>\n",
              "      <th>std</th>\n",
              "      <td>1.551289</td>\n",
              "      <td>1.055856</td>\n",
              "      <td>4.972519</td>\n",
              "      <td>5.807682</td>\n",
              "      <td>1.055856</td>\n",
              "      <td>1.551289</td>\n",
              "      <td>1.563155</td>\n",
              "      <td>0.999876</td>\n",
              "      <td>0.293785</td>\n",
              "      <td>0.314576</td>\n",
              "      <td>...</td>\n",
              "      <td>0.350382</td>\n",
              "      <td>0.377964</td>\n",
              "      <td>5.911299</td>\n",
              "      <td>4.990045</td>\n",
              "      <td>0.125000</td>\n",
              "      <td>0.125000</td>\n",
              "      <td>14.394629</td>\n",
              "      <td>13.531269</td>\n",
              "      <td>88.406888</td>\n",
              "      <td>80.916230</td>\n",
              "    </tr>\n",
              "    <tr>\n",
              "      <th>min</th>\n",
              "      <td>0.000000</td>\n",
              "      <td>0.000000</td>\n",
              "      <td>2.000000</td>\n",
              "      <td>0.000000</td>\n",
              "      <td>0.000000</td>\n",
              "      <td>0.000000</td>\n",
              "      <td>0.000000</td>\n",
              "      <td>0.000000</td>\n",
              "      <td>0.000000</td>\n",
              "      <td>0.000000</td>\n",
              "      <td>...</td>\n",
              "      <td>0.000000</td>\n",
              "      <td>0.000000</td>\n",
              "      <td>0.000000</td>\n",
              "      <td>2.000000</td>\n",
              "      <td>0.000000</td>\n",
              "      <td>0.000000</td>\n",
              "      <td>38.000000</td>\n",
              "      <td>44.000000</td>\n",
              "      <td>139.000000</td>\n",
              "      <td>141.000000</td>\n",
              "    </tr>\n",
              "    <tr>\n",
              "      <th>25%</th>\n",
              "      <td>0.000000</td>\n",
              "      <td>0.000000</td>\n",
              "      <td>8.000000</td>\n",
              "      <td>7.750000</td>\n",
              "      <td>0.000000</td>\n",
              "      <td>0.000000</td>\n",
              "      <td>0.000000</td>\n",
              "      <td>0.000000</td>\n",
              "      <td>0.000000</td>\n",
              "      <td>0.000000</td>\n",
              "      <td>...</td>\n",
              "      <td>0.000000</td>\n",
              "      <td>0.000000</td>\n",
              "      <td>7.750000</td>\n",
              "      <td>8.000000</td>\n",
              "      <td>0.000000</td>\n",
              "      <td>0.000000</td>\n",
              "      <td>63.000000</td>\n",
              "      <td>60.250000</td>\n",
              "      <td>229.000000</td>\n",
              "      <td>233.750000</td>\n",
              "    </tr>\n",
              "    <tr>\n",
              "      <th>50%</th>\n",
              "      <td>1.000000</td>\n",
              "      <td>1.000000</td>\n",
              "      <td>10.000000</td>\n",
              "      <td>10.000000</td>\n",
              "      <td>1.000000</td>\n",
              "      <td>1.000000</td>\n",
              "      <td>1.000000</td>\n",
              "      <td>1.000000</td>\n",
              "      <td>0.000000</td>\n",
              "      <td>0.000000</td>\n",
              "      <td>...</td>\n",
              "      <td>0.000000</td>\n",
              "      <td>0.000000</td>\n",
              "      <td>11.000000</td>\n",
              "      <td>10.000000</td>\n",
              "      <td>0.000000</td>\n",
              "      <td>0.000000</td>\n",
              "      <td>71.000000</td>\n",
              "      <td>72.000000</td>\n",
              "      <td>281.000000</td>\n",
              "      <td>292.500000</td>\n",
              "    </tr>\n",
              "    <tr>\n",
              "      <th>75%</th>\n",
              "      <td>2.000000</td>\n",
              "      <td>2.000000</td>\n",
              "      <td>14.000000</td>\n",
              "      <td>14.000000</td>\n",
              "      <td>2.000000</td>\n",
              "      <td>2.000000</td>\n",
              "      <td>2.000000</td>\n",
              "      <td>2.000000</td>\n",
              "      <td>0.000000</td>\n",
              "      <td>0.000000</td>\n",
              "      <td>...</td>\n",
              "      <td>0.000000</td>\n",
              "      <td>0.000000</td>\n",
              "      <td>14.000000</td>\n",
              "      <td>14.000000</td>\n",
              "      <td>0.000000</td>\n",
              "      <td>0.000000</td>\n",
              "      <td>83.500000</td>\n",
              "      <td>79.000000</td>\n",
              "      <td>328.000000</td>\n",
              "      <td>327.500000</td>\n",
              "    </tr>\n",
              "    <tr>\n",
              "      <th>max</th>\n",
              "      <td>7.000000</td>\n",
              "      <td>4.000000</td>\n",
              "      <td>25.000000</td>\n",
              "      <td>32.000000</td>\n",
              "      <td>4.000000</td>\n",
              "      <td>7.000000</td>\n",
              "      <td>7.000000</td>\n",
              "      <td>4.000000</td>\n",
              "      <td>1.000000</td>\n",
              "      <td>1.000000</td>\n",
              "      <td>...</td>\n",
              "      <td>1.000000</td>\n",
              "      <td>2.000000</td>\n",
              "      <td>32.000000</td>\n",
              "      <td>26.000000</td>\n",
              "      <td>1.000000</td>\n",
              "      <td>1.000000</td>\n",
              "      <td>101.000000</td>\n",
              "      <td>104.000000</td>\n",
              "      <td>637.000000</td>\n",
              "      <td>585.000000</td>\n",
              "    </tr>\n",
              "  </tbody>\n",
              "</table>\n",
              "<p>8 rows × 80 columns</p>\n",
              "</div>\n",
              "      <button class=\"colab-df-convert\" onclick=\"convertToInteractive('df-b36bbc70-e7ea-4ad8-8271-81963a0cb07b')\"\n",
              "              title=\"Convert this dataframe to an interactive table.\"\n",
              "              style=\"display:none;\">\n",
              "        \n",
              "  <svg xmlns=\"http://www.w3.org/2000/svg\" height=\"24px\"viewBox=\"0 0 24 24\"\n",
              "       width=\"24px\">\n",
              "    <path d=\"M0 0h24v24H0V0z\" fill=\"none\"/>\n",
              "    <path d=\"M18.56 5.44l.94 2.06.94-2.06 2.06-.94-2.06-.94-.94-2.06-.94 2.06-2.06.94zm-11 1L8.5 8.5l.94-2.06 2.06-.94-2.06-.94L8.5 2.5l-.94 2.06-2.06.94zm10 10l.94 2.06.94-2.06 2.06-.94-2.06-.94-.94-2.06-.94 2.06-2.06.94z\"/><path d=\"M17.41 7.96l-1.37-1.37c-.4-.4-.92-.59-1.43-.59-.52 0-1.04.2-1.43.59L10.3 9.45l-7.72 7.72c-.78.78-.78 2.05 0 2.83L4 21.41c.39.39.9.59 1.41.59.51 0 1.02-.2 1.41-.59l7.78-7.78 2.81-2.81c.8-.78.8-2.07 0-2.86zM5.41 20L4 18.59l7.72-7.72 1.47 1.35L5.41 20z\"/>\n",
              "  </svg>\n",
              "      </button>\n",
              "      \n",
              "  <style>\n",
              "    .colab-df-container {\n",
              "      display:flex;\n",
              "      flex-wrap:wrap;\n",
              "      gap: 12px;\n",
              "    }\n",
              "\n",
              "    .colab-df-convert {\n",
              "      background-color: #E8F0FE;\n",
              "      border: none;\n",
              "      border-radius: 50%;\n",
              "      cursor: pointer;\n",
              "      display: none;\n",
              "      fill: #1967D2;\n",
              "      height: 32px;\n",
              "      padding: 0 0 0 0;\n",
              "      width: 32px;\n",
              "    }\n",
              "\n",
              "    .colab-df-convert:hover {\n",
              "      background-color: #E2EBFA;\n",
              "      box-shadow: 0px 1px 2px rgba(60, 64, 67, 0.3), 0px 1px 3px 1px rgba(60, 64, 67, 0.15);\n",
              "      fill: #174EA6;\n",
              "    }\n",
              "\n",
              "    [theme=dark] .colab-df-convert {\n",
              "      background-color: #3B4455;\n",
              "      fill: #D2E3FC;\n",
              "    }\n",
              "\n",
              "    [theme=dark] .colab-df-convert:hover {\n",
              "      background-color: #434B5C;\n",
              "      box-shadow: 0px 1px 3px 1px rgba(0, 0, 0, 0.15);\n",
              "      filter: drop-shadow(0px 1px 2px rgba(0, 0, 0, 0.3));\n",
              "      fill: #FFFFFF;\n",
              "    }\n",
              "  </style>\n",
              "\n",
              "      <script>\n",
              "        const buttonEl =\n",
              "          document.querySelector('#df-b36bbc70-e7ea-4ad8-8271-81963a0cb07b button.colab-df-convert');\n",
              "        buttonEl.style.display =\n",
              "          google.colab.kernel.accessAllowed ? 'block' : 'none';\n",
              "\n",
              "        async function convertToInteractive(key) {\n",
              "          const element = document.querySelector('#df-b36bbc70-e7ea-4ad8-8271-81963a0cb07b');\n",
              "          const dataTable =\n",
              "            await google.colab.kernel.invokeFunction('convertToInteractive',\n",
              "                                                     [key], {});\n",
              "          if (!dataTable) return;\n",
              "\n",
              "          const docLinkHtml = 'Like what you see? Visit the ' +\n",
              "            '<a target=\"_blank\" href=https://colab.research.google.com/notebooks/data_table.ipynb>data table notebook</a>'\n",
              "            + ' to learn more about interactive tables.';\n",
              "          element.innerHTML = '';\n",
              "          dataTable['output_type'] = 'display_data';\n",
              "          await google.colab.output.renderOutput(dataTable, element);\n",
              "          const docLink = document.createElement('div');\n",
              "          docLink.innerHTML = docLinkHtml;\n",
              "          element.appendChild(docLink);\n",
              "        }\n",
              "      </script>\n",
              "    </div>\n",
              "  </div>\n",
              "  "
            ]
          },
          "metadata": {},
          "execution_count": 8
        }
      ],
      "source": [
        "df.describe()"
      ]
    },
    {
      "cell_type": "code",
      "execution_count": 9,
      "id": "42e38e37",
      "metadata": {
        "colab": {
          "base_uri": "https://localhost:8080/"
        },
        "execution": {
          "iopub.execute_input": "2023-01-28T07:02:03.624976Z",
          "iopub.status.busy": "2023-01-28T07:02:03.624565Z",
          "iopub.status.idle": "2023-01-28T07:02:03.636428Z",
          "shell.execute_reply": "2023-01-28T07:02:03.634881Z"
        },
        "id": "42e38e37",
        "outputId": "8834bf26-67ed-4a74-f509-d894c7842602",
        "papermill": {
          "duration": 0.027759,
          "end_time": "2023-01-28T07:02:03.639127",
          "exception": false,
          "start_time": "2023-01-28T07:02:03.611368",
          "status": "completed"
        },
        "tags": []
      },
      "outputs": [
        {
          "output_type": "execute_result",
          "data": {
            "text/plain": [
              "team1                                0\n",
              "team2                                0\n",
              "possession team1                     0\n",
              "possession team2                     0\n",
              "possession in contest                0\n",
              "                                    ..\n",
              "own goals team2                      0\n",
              "forced turnovers team1               0\n",
              "forced turnovers team2               0\n",
              "defensive pressures applied team1    0\n",
              "defensive pressures applied team2    0\n",
              "Length: 88, dtype: int64"
            ]
          },
          "metadata": {},
          "execution_count": 9
        }
      ],
      "source": [
        "df.isnull().sum()"
      ]
    },
    {
      "cell_type": "code",
      "execution_count": 10,
      "id": "1e2217f6",
      "metadata": {
        "colab": {
          "base_uri": "https://localhost:8080/"
        },
        "execution": {
          "iopub.execute_input": "2023-01-28T07:02:03.752482Z",
          "iopub.status.busy": "2023-01-28T07:02:03.751072Z",
          "iopub.status.idle": "2023-01-28T07:02:03.767613Z",
          "shell.execute_reply": "2023-01-28T07:02:03.766247Z"
        },
        "id": "1e2217f6",
        "outputId": "ee2211d1-0119-4a7e-ea09-af7e6fd889a1",
        "papermill": {
          "duration": 0.032867,
          "end_time": "2023-01-28T07:02:03.770414",
          "exception": false,
          "start_time": "2023-01-28T07:02:03.737547",
          "status": "completed"
        },
        "tags": []
      },
      "outputs": [
        {
          "output_type": "execute_result",
          "data": {
            "text/plain": [
              "0"
            ]
          },
          "metadata": {},
          "execution_count": 10
        }
      ],
      "source": [
        "df.duplicated().sum()"
      ]
    },
    {
      "cell_type": "code",
      "execution_count": 11,
      "id": "2e794057",
      "metadata": {
        "execution": {
          "iopub.execute_input": "2023-01-28T07:02:03.846774Z",
          "iopub.status.busy": "2023-01-28T07:02:03.846321Z",
          "iopub.status.idle": "2023-01-28T07:02:03.861326Z",
          "shell.execute_reply": "2023-01-28T07:02:03.859779Z"
        },
        "id": "2e794057",
        "papermill": {
          "duration": 0.031467,
          "end_time": "2023-01-28T07:02:03.863954",
          "exception": false,
          "start_time": "2023-01-28T07:02:03.832487",
          "status": "completed"
        },
        "tags": []
      },
      "outputs": [],
      "source": [
        "df[\"date\"]=pd.to_datetime(df[\"date\"])"
      ]
    },
    {
      "cell_type": "code",
      "execution_count": 12,
      "id": "35722c09",
      "metadata": {
        "execution": {
          "iopub.execute_input": "2023-01-28T07:02:03.892111Z",
          "iopub.status.busy": "2023-01-28T07:02:03.891689Z",
          "iopub.status.idle": "2023-01-28T07:02:03.901113Z",
          "shell.execute_reply": "2023-01-28T07:02:03.899763Z"
        },
        "id": "35722c09",
        "papermill": {
          "duration": 0.026675,
          "end_time": "2023-01-28T07:02:03.903843",
          "exception": false,
          "start_time": "2023-01-28T07:02:03.877168",
          "status": "completed"
        },
        "tags": []
      },
      "outputs": [],
      "source": [
        "df['hour'] = pd.to_datetime(df['hour'], format='%H : %M')\n"
      ]
    },
    {
      "cell_type": "code",
      "execution_count": 13,
      "id": "89aa5591",
      "metadata": {
        "colab": {
          "base_uri": "https://localhost:8080/"
        },
        "execution": {
          "iopub.execute_input": "2023-01-28T07:02:03.931012Z",
          "iopub.status.busy": "2023-01-28T07:02:03.930521Z",
          "iopub.status.idle": "2023-01-28T07:02:03.953415Z",
          "shell.execute_reply": "2023-01-28T07:02:03.951418Z"
        },
        "id": "89aa5591",
        "outputId": "9b090493-9a2f-4a2b-ccfb-c4d18e85bc5e",
        "papermill": {
          "duration": 0.040455,
          "end_time": "2023-01-28T07:02:03.957206",
          "exception": false,
          "start_time": "2023-01-28T07:02:03.916751",
          "status": "completed"
        },
        "tags": []
      },
      "outputs": [
        {
          "output_type": "stream",
          "name": "stdout",
          "text": [
            "<class 'pandas.core.frame.DataFrame'>\n",
            "RangeIndex: 64 entries, 0 to 63\n",
            "Data columns (total 88 columns):\n",
            " #   Column                                                 Non-Null Count  Dtype         \n",
            "---  ------                                                 --------------  -----         \n",
            " 0   team1                                                  64 non-null     object        \n",
            " 1   team2                                                  64 non-null     object        \n",
            " 2   possession team1                                       64 non-null     object        \n",
            " 3   possession team2                                       64 non-null     object        \n",
            " 4   possession in contest                                  64 non-null     object        \n",
            " 5   number of goals team1                                  64 non-null     int64         \n",
            " 6   number of goals team2                                  64 non-null     int64         \n",
            " 7   date                                                   64 non-null     datetime64[ns]\n",
            " 8   hour                                                   64 non-null     datetime64[ns]\n",
            " 9   category                                               64 non-null     object        \n",
            " 10  total attempts team1                                   64 non-null     int64         \n",
            " 11  total attempts team2                                   64 non-null     int64         \n",
            " 12  conceded team1                                         64 non-null     int64         \n",
            " 13  conceded team2                                         64 non-null     int64         \n",
            " 14  goal inside the penalty area team1                     64 non-null     int64         \n",
            " 15  goal inside the penalty area team2                     64 non-null     int64         \n",
            " 16  goal outside the penalty area team1                    64 non-null     int64         \n",
            " 17  goal outside the penalty area team2                    64 non-null     int64         \n",
            " 18  assists team1                                          64 non-null     int64         \n",
            " 19  assists team2                                          64 non-null     int64         \n",
            " 20  on target attempts team1                               64 non-null     int64         \n",
            " 21  on target attempts team2                               64 non-null     int64         \n",
            " 22  off target attempts team1                              64 non-null     int64         \n",
            " 23  off target attempts team2                              64 non-null     int64         \n",
            " 24  attempts inside the penalty area team1                 64 non-null     int64         \n",
            " 25  attempts inside the penalty area  team2                64 non-null     int64         \n",
            " 26  attempts outside the penalty area  team1               64 non-null     int64         \n",
            " 27  attempts outside the penalty area  team2               64 non-null     int64         \n",
            " 28  left channel team1                                     64 non-null     int64         \n",
            " 29  left channel team2                                     64 non-null     int64         \n",
            " 30  left inside channel team1                              64 non-null     int64         \n",
            " 31  left inside channel team2                              64 non-null     int64         \n",
            " 32  central channel team1                                  64 non-null     int64         \n",
            " 33  central channel team2                                  64 non-null     int64         \n",
            " 34  right inside channel team1                             64 non-null     int64         \n",
            " 35  right inside channel team2                             64 non-null     int64         \n",
            " 36  right channel team1                                    64 non-null     int64         \n",
            " 37  right channel team2                                    64 non-null     int64         \n",
            " 38  total offers to receive team1                          64 non-null     int64         \n",
            " 39  total offers to receive team2                          64 non-null     int64         \n",
            " 40  inbehind offers to receive team1                       64 non-null     int64         \n",
            " 41  inbehind offers to receive team2                       64 non-null     int64         \n",
            " 42  inbetween offers to receive team1                      64 non-null     int64         \n",
            " 43  inbetween offers to receive team2                      64 non-null     int64         \n",
            " 44  infront offers to receive team1                        64 non-null     int64         \n",
            " 45  infront offers to receive team2                        64 non-null     int64         \n",
            " 46  receptions between midfield and defensive lines team1  64 non-null     int64         \n",
            " 47  receptions between midfield and defensive lines team2  64 non-null     int64         \n",
            " 48  attempted line breaks team1                            64 non-null     int64         \n",
            " 49  attempted line breaks team2                            64 non-null     int64         \n",
            " 50  completed line breaksteam1                             64 non-null     int64         \n",
            " 51  completed line breaks team2                            64 non-null     int64         \n",
            " 52  attempted defensive line breaks team1                  64 non-null     int64         \n",
            " 53  attempted defensive line breaks team2                  64 non-null     int64         \n",
            " 54  completed defensive line breaksteam1                   64 non-null     int64         \n",
            " 55  completed defensive line breaks team2                  64 non-null     int64         \n",
            " 56  yellow cards team1                                     64 non-null     int64         \n",
            " 57  yellow cards team2                                     64 non-null     int64         \n",
            " 58  red cards team1                                        64 non-null     int64         \n",
            " 59  red cards team2                                        64 non-null     int64         \n",
            " 60  fouls against team1                                    64 non-null     int64         \n",
            " 61  fouls against team2                                    64 non-null     int64         \n",
            " 62  offsides team1                                         64 non-null     int64         \n",
            " 63  offsides team2                                         64 non-null     int64         \n",
            " 64  passes team1                                           64 non-null     int64         \n",
            " 65  passes team2                                           64 non-null     int64         \n",
            " 66  passes completed team1                                 64 non-null     int64         \n",
            " 67  passes completed team2                                 64 non-null     int64         \n",
            " 68  crosses team1                                          64 non-null     int64         \n",
            " 69  crosses team2                                          64 non-null     int64         \n",
            " 70  crosses completed team1                                64 non-null     int64         \n",
            " 71  crosses completed team2                                64 non-null     int64         \n",
            " 72  switches of play completed team1                       64 non-null     int64         \n",
            " 73  switches of play completed team2                       64 non-null     int64         \n",
            " 74  corners team1                                          64 non-null     int64         \n",
            " 75  corners team2                                          64 non-null     int64         \n",
            " 76  free kicks team1                                       64 non-null     int64         \n",
            " 77  free kicks team2                                       64 non-null     int64         \n",
            " 78  penalties scored team1                                 64 non-null     int64         \n",
            " 79  penalties scored team2                                 64 non-null     int64         \n",
            " 80  goal preventions team1                                 64 non-null     int64         \n",
            " 81  goal preventions team2                                 64 non-null     int64         \n",
            " 82  own goals team1                                        64 non-null     int64         \n",
            " 83  own goals team2                                        64 non-null     int64         \n",
            " 84  forced turnovers team1                                 64 non-null     int64         \n",
            " 85  forced turnovers team2                                 64 non-null     int64         \n",
            " 86  defensive pressures applied team1                      64 non-null     int64         \n",
            " 87  defensive pressures applied team2                      64 non-null     int64         \n",
            "dtypes: datetime64[ns](2), int64(80), object(6)\n",
            "memory usage: 44.1+ KB\n"
          ]
        }
      ],
      "source": [
        "df.info()"
      ]
    },
    {
      "cell_type": "markdown",
      "id": "d14e659c",
      "metadata": {
        "id": "d14e659c",
        "papermill": {
          "duration": 0.012209,
          "end_time": "2023-01-28T07:02:04.152984",
          "exception": false,
          "start_time": "2023-01-28T07:02:04.140775",
          "status": "completed"
        },
        "tags": []
      },
      "source": [
        "**DATA VISUALISTAIONS**"
      ]
    },
    {
      "cell_type": "markdown",
      "id": "d3dde689",
      "metadata": {
        "id": "d3dde689",
        "papermill": {
          "duration": 0.012644,
          "end_time": "2023-01-28T07:02:04.178569",
          "exception": false,
          "start_time": "2023-01-28T07:02:04.165925",
          "status": "completed"
        },
        "tags": []
      },
      "source": [
        "**IMPORT SEABORN AND MATPLOTLIB**"
      ]
    },
    {
      "cell_type": "code",
      "execution_count": 14,
      "id": "8426de4b",
      "metadata": {
        "execution": {
          "iopub.execute_input": "2023-01-28T07:02:04.205776Z",
          "iopub.status.busy": "2023-01-28T07:02:04.205362Z",
          "iopub.status.idle": "2023-01-28T07:02:04.211224Z",
          "shell.execute_reply": "2023-01-28T07:02:04.209574Z"
        },
        "id": "8426de4b",
        "papermill": {
          "duration": 0.022717,
          "end_time": "2023-01-28T07:02:04.214029",
          "exception": false,
          "start_time": "2023-01-28T07:02:04.191312",
          "status": "completed"
        },
        "tags": []
      },
      "outputs": [],
      "source": [
        "import matplotlib.pyplot as plt"
      ]
    },
    {
      "cell_type": "markdown",
      "metadata": {
        "papermill": {
          "duration": 0.012369,
          "end_time": "2023-01-28T07:02:04.239272",
          "exception": false,
          "start_time": "2023-01-28T07:02:04.226903",
          "status": "completed"
        },
        "tags": [],
        "id": "XMNJ12fgwlcx"
      },
      "source": [
        "**No of GOals done by every team per day:** *italicised text*"
      ],
      "id": "XMNJ12fgwlcx"
    },
    {
      "cell_type": "code",
      "source": [
        "import matplotlib.pyplot as plt\n",
        "\n",
        "# Group the data by date and sum the number of goals scored by each team\n",
        "goals_by_date = df.groupby('date')[['number of goals team1', 'number of goals team2']].sum()\n",
        "\n",
        "# Create a line plot of the number of goals scored by team1 and team2 on each date\n",
        "plt.plot(goals_by_date.index, goals_by_date['number of goals team1'], label='Team 1')\n",
        "plt.plot(goals_by_date.index, goals_by_date['number of goals team2'], label='Team 2')\n",
        "\n",
        "# Add labels and title\n",
        "plt.xlabel('Date')\n",
        "plt.ylabel('Number of Goals')\n",
        "plt.title('Number of Goals Scored by Team 1 and Team 2')\n",
        "\n",
        "# Add legend\n",
        "plt.legend()\n",
        "\n",
        "# Show plot\n",
        "plt.show()\n"
      ],
      "metadata": {
        "colab": {
          "base_uri": "https://localhost:8080/",
          "height": 295
        },
        "id": "5vi2iTfAwrAK",
        "outputId": "d1ae7e33-376f-4c94-f1f1-3ab9941b8174"
      },
      "id": "5vi2iTfAwrAK",
      "execution_count": 18,
      "outputs": [
        {
          "output_type": "display_data",
          "data": {
            "text/plain": [
              "<Figure size 432x288 with 1 Axes>"
            ],
            "image/png": "[encoded data removed]"
          },
          "metadata": {
            "needs_background": "light"
          }
        }
      ]
    },
    {
      "cell_type": "markdown",
      "id": "4c6765ab",
      "metadata": {
        "id": "4c6765ab",
        "papermill": {
          "duration": 0.012369,
          "end_time": "2023-01-28T07:02:04.239272",
          "exception": false,
          "start_time": "2023-01-28T07:02:04.226903",
          "status": "completed"
        },
        "tags": []
      },
      "source": [
        "**Average possession percentage for team1 and team2:** *italicised text*"
      ]
    },
    {
      "cell_type": "code",
      "execution_count": 15,
      "id": "72212d1f",
      "metadata": {
        "id": "72212d1f"
      },
      "outputs": [],
      "source": [
        "import pandas as pd\n",
        "\n",
        "def clean_percentage_column(df, col1, col2):\n",
        "    \"\"\"\n",
        "    Clean percentage columns by removing the % symbol and converting them to float.\n",
        "\n",
        "    Parameters:\n",
        "    df (pandas.DataFrame): the input DataFrame.\n",
        "    col1 (str): the name of the first column to be cleaned.\n",
        "    col2 (str): the name of the second column to be cleaned.\n",
        "\n",
        "    Returns:\n",
        "    None\n",
        "    \"\"\"\n",
        "    df[col1] = df[col1].replace('%', '', regex=True)\n",
        "    df[col1] = pd.to_numeric(df[col1], errors='coerce', downcast='float')\n",
        "\n",
        "    df[col2] = df[col2].replace('%', '', regex=True)\n",
        "    df[col2] = pd.to_numeric(df[col2], errors='coerce', downcast='float')\n",
        "\n",
        "clean_percentage_column(df, 'possession team1', 'possession team2')\n"
      ]
    },
    {
      "cell_type": "code",
      "execution_count": 16,
      "id": "bf430c0e",
      "metadata": {
        "colab": {
          "base_uri": "https://localhost:8080/",
          "height": 279
        },
        "id": "bf430c0e",
        "outputId": "4a860f21-d657-42c1-81de-89e3a437835c"
      },
      "outputs": [
        {
          "output_type": "display_data",
          "data": {
            "text/plain": [
              "<Figure size 432x288 with 1 Axes>"
            ],
            "image/png": "[encoded data removed]"
          },
          "metadata": {
            "needs_background": "light"
          }
        }
      ],
      "source": [
        "import matplotlib.pyplot as plt\n",
        "\n",
        "def plot_possession(df, col1, col2):\n",
        "    \"\"\"\n",
        "    Plot the average possession percentage for two teams in a bar chart.\n",
        "\n",
        "    Parameters:\n",
        "    df (pandas.DataFrame): the input DataFrame.\n",
        "    col1 (str): the name of the column containing the possession of team 1.\n",
        "    col2 (str): the name of the column containing the possession of team 2.\n",
        "\n",
        "    Returns:\n",
        "    None\n",
        "    \"\"\"\n",
        "    t1_possession = df[col1]\n",
        "    t2_possession = df[col2]\n",
        "\n",
        "    plt.bar([\"team1\", \"team2\"], [t1_possession.mean(), t2_possession.mean()])\n",
        "    plt.xlabel(\"Team\")\n",
        "    plt.ylabel(\"Average Possession Percentage\")\n",
        "    plt.show()\n",
        "\n",
        "plot_possession(df, \"possession team1\", \"possession team2\")\n",
        "\n"
      ]
    },
    {
      "cell_type": "markdown",
      "id": "0c26d714",
      "metadata": {
        "id": "0c26d714",
        "papermill": {
          "duration": 0.012938,
          "end_time": "2023-01-28T07:02:04.539240",
          "exception": false,
          "start_time": "2023-01-28T07:02:04.526302",
          "status": "completed"
        },
        "tags": []
      },
      "source": [
        "**Impact of possession in contest on number of goals scored:**"
      ]
    },
    {
      "cell_type": "code",
      "execution_count": null,
      "id": "72c053c9",
      "metadata": {
        "id": "72c053c9",
        "outputId": "6480a2d7-368d-4746-9672-f0d714f82f6f"
      },
      "outputs": [
        {
          "data": {
            "image/png": "[encoded data removed]",
            "text/plain": [
              "<Figure size 640x480 with 1 Axes>"
            ]
          },
          "metadata": {},
          "output_type": "display_data"
        }
      ],
      "source": [
        "import matplotlib.pyplot as plt\n",
        "\n",
        "def plot_goals_vs_possession(df, pos_col, goals_col1, goals_col2):\n",
        "    \"\"\"\n",
        "    Plot the number of goals for two teams against their possession in contest in a scatter plot.\n",
        "\n",
        "    Parameters:\n",
        "    df (pandas.DataFrame): the input DataFrame.\n",
        "    pos_col (str): the name of the column containing the possession in contest.\n",
        "    goals_col1 (str): the name of the column containing the number of goals for team 1.\n",
        "    goals_col2 (str): the name of the column containing the number of goals for team 2.\n",
        "\n",
        "    Returns:\n",
        "    None\n",
        "    \"\"\"\n",
        "    poss_in_contest = df[pos_col]\n",
        "    goals_t1 = df[goals_col1]\n",
        "    goals_t2 = df[goals_col2]\n",
        "\n",
        "    plt.scatter(poss_in_contest, goals_t1, label=\"Team 1\")\n",
        "    plt.scatter(poss_in_contest, goals_t2, label=\"Team 2\")\n",
        "    plt.xlabel(\"Possession in Contest (%)\")\n",
        "    plt.ylabel(\"Number of Goals\")\n",
        "    plt.legend()\n",
        "    plt.show()\n",
        "\n",
        "plot_goals_vs_possession(df, \"possession in contest\", \"number of goals team1\", \"number of goals team2\")\n"
      ]
    },
    {
      "cell_type": "code",
      "execution_count": null,
      "id": "a232f014",
      "metadata": {
        "id": "a232f014",
        "outputId": "8fd6da5a-46e6-474f-f7d9-b0edd8ee90f9"
      },
      "outputs": [
        {
          "data": {
            "image/png": "[encoded data removed]",
            "text/plain": [
              "<Figure size 1500x500 with 3 Axes>"
            ]
          },
          "metadata": {},
          "output_type": "display_data"
        }
      ],
      "source": [
        "import matplotlib.pyplot as plt\n",
        "\n",
        "def plot_attempt_stats(df, total_col1, total_col2, on_target_col1, on_target_col2, penalty_col1, penalty_col2):\n",
        "    \"\"\"\n",
        "    Plot the average number of attempts for two teams in three bar charts.\n",
        "\n",
        "    Parameters:\n",
        "    df (pandas.DataFrame): the input DataFrame.\n",
        "    total_col1 (str): the name of the column containing the total attempts of team 1.\n",
        "    total_col2 (str): the name of the column containing the total attempts of team 2.\n",
        "    on_target_col1 (str): the name of the column containing the on target attempts of team 1.\n",
        "    on_target_col2 (str): the name of the column containing the on target attempts of team 2.\n",
        "    penalty_col1 (str): the name of the column containing the attempts inside the penalty area of team 1.\n",
        "    penalty_col2 (str): the name of the column containing the attempts inside the penalty area of team 2.\n",
        "\n",
        "    Returns:\n",
        "    None\n",
        "    \"\"\"\n",
        "    t1_total_attempts = df[total_col1]\n",
        "    t2_total_attempts = df[total_col2]\n",
        "    t1_on_target = df[on_target_col1]\n",
        "    t2_on_target = df[on_target_col2]\n",
        "    t1_penalty_attempts = df[penalty_col1]\n",
        "    t2_penalty_attempts = df[penalty_col2]\n",
        "\n",
        "    fig, axs = plt.subplots(1, 3, figsize=(15, 5))\n",
        "    axs[0].bar([\"team1\", \"team2\"], [t1_total_attempts.mean(), t2_total_attempts.mean()])\n",
        "    axs[0].set_title(\"Total Attempts\")\n",
        "    axs[1].bar([\"team1\", \"team2\"], [t1_on_target.mean(), t2_on_target.mean()])\n",
        "    axs[1].set_title(\"On Target Attempts\")\n",
        "    axs[2].bar([\"team1\", \"team2\"], [t1_penalty_attempts.mean(), t2_penalty_attempts.mean()])\n",
        "    axs[2].set_title(\"Attempts Inside Penalty Area\")\n",
        "    plt.show()\n",
        "\n",
        "plot_attempt_stats(df, \"total attempts team1\", \"total attempts team2\", \"on target attempts team1\", \"on target attempts team2\", \"attempts inside the penalty area team1\", \"attempts inside the penalty area  team2\")\n"
      ]
    },
    {
      "cell_type": "markdown",
      "id": "7a75de8a",
      "metadata": {
        "id": "7a75de8a",
        "papermill": {
          "duration": 0.012969,
          "end_time": "2023-01-28T07:02:05.428941",
          "exception": false,
          "start_time": "2023-01-28T07:02:05.415972",
          "status": "completed"
        },
        "tags": []
      },
      "source": [
        "\n",
        "\n",
        "```\n",
        "# This is formatted as code\n",
        "```\n",
        "\n",
        "**What is the distribution of goals scored by team1 in FIFA 2022 dataset?**"
      ]
    },
    {
      "cell_type": "code",
      "execution_count": null,
      "id": "e407f418",
      "metadata": {
        "id": "e407f418"
      },
      "outputs": [],
      "source": [
        "import matplotlib.pyplot as plt\n",
        "\n",
        "def plot_goals_distribution(dataframe, team):\n",
        "    if team == 'team1':\n",
        "        goals = dataframe['number of goals team1']\n",
        "    elif team == 'team2':\n",
        "        goals = dataframe['number of goals team2']\n",
        "    else:\n",
        "        raise ValueError(\"Invalid team name. Must be 'team1' or 'team2'\")\n",
        "    plt.hist(goals, bins=range(0, goals.max()+1))\n",
        "    plt.xlabel('Number of Goals Scored')\n",
        "    plt.ylabel('Frequency')\n",
        "    plt.title(f'Distribution of Goals Scored by {team} in FIFA 2022')\n",
        "    plt.show()\n"
      ]
    },
    {
      "cell_type": "code",
      "execution_count": null,
      "id": "250bedc1",
      "metadata": {
        "colab": {
          "base_uri": "https://localhost:8080/",
          "height": 295
        },
        "execution": {
          "iopub.execute_input": "2023-01-28T07:02:05.457856Z",
          "iopub.status.busy": "2023-01-28T07:02:05.457404Z",
          "iopub.status.idle": "2023-01-28T07:02:05.698235Z",
          "shell.execute_reply": "2023-01-28T07:02:05.696915Z"
        },
        "id": "250bedc1",
        "outputId": "9fc8da5d-1e7c-435a-c812-231db1e82589",
        "papermill": {
          "duration": 0.258943,
          "end_time": "2023-01-28T07:02:05.701230",
          "exception": false,
          "start_time": "2023-01-28T07:02:05.442287",
          "status": "completed"
        },
        "tags": []
      },
      "outputs": [
        {
          "data": {
            "image/png": "[encoded data removed]",
            "text/plain": [
              "<Figure size 640x480 with 1 Axes>"
            ]
          },
          "metadata": {},
          "output_type": "display_data"
        }
      ],
      "source": [
        "plot_goals_distribution(df, 'team1')"
      ]
    },
    {
      "cell_type": "markdown",
      "id": "08ef13ab",
      "metadata": {
        "id": "08ef13ab",
        "papermill": {
          "duration": 0.013331,
          "end_time": "2023-01-28T07:02:05.728292",
          "exception": false,
          "start_time": "2023-01-28T07:02:05.714961",
          "status": "completed"
        },
        "tags": []
      },
      "source": [
        "**** What is the distribution of goals scored by team2 in FIFA 2022 dataset?****"
      ]
    },
    {
      "cell_type": "code",
      "execution_count": null,
      "id": "5f41ca96",
      "metadata": {
        "id": "5f41ca96",
        "outputId": "13af3a75-1558-4025-cae0-ffd49625937d"
      },
      "outputs": [
        {
          "data": {
            "image/png": "[encoded data removed]",
            "text/plain": [
              "<Figure size 640x480 with 1 Axes>"
            ]
          },
          "metadata": {},
          "output_type": "display_data"
        }
      ],
      "source": [
        "plot_goals_distribution(df, 'team2')"
      ]
    },
    {
      "cell_type": "markdown",
      "id": "f22e5a73",
      "metadata": {
        "id": "f22e5a73",
        "papermill": {
          "duration": 0.013993,
          "end_time": "2023-01-28T07:02:06.008726",
          "exception": false,
          "start_time": "2023-01-28T07:02:05.994733",
          "status": "completed"
        },
        "tags": []
      },
      "source": [
        "To summarize, the analysis of the FIFA 2022 dataset yielded several key insights. Both team1 and team2 had comparable possession percentages, and possession had a significant impact on the number of goals scored. Team1 and team2 had similar numbers of total attempts, on target attempts, and attempts inside the penalty area. The distribution of goals scored by team1 in the dataset was relatively even. Overall, possession and attempts are important factors in determining the number of goals scored, but other factors such as team tactics, player abilities, and chance also influence the outcome of a match."
      ]
    },
    {
      "cell_type": "markdown",
      "id": "1d773ecf",
      "metadata": {
        "id": "1d773ecf",
        "papermill": {
          "duration": 0.013623,
          "end_time": "2023-01-28T07:02:06.036430",
          "exception": false,
          "start_time": "2023-01-28T07:02:06.022807",
          "status": "completed"
        },
        "tags": []
      },
      "source": [
        "****"
      ]
    },
    {
      "cell_type": "markdown",
      "id": "6514ac21",
      "metadata": {
        "id": "6514ac21",
        "papermill": {
          "duration": 0.013923,
          "end_time": "2023-01-28T07:02:06.064761",
          "exception": false,
          "start_time": "2023-01-28T07:02:06.050838",
          "status": "completed"
        },
        "tags": []
      },
      "source": []
    }
  ],
  "metadata": {
    "colab": {
      "provenance": []
    },
    "kernelspec": {
      "display_name": "Python 3",
      "language": "python",
      "name": "python3"
    },
    "language_info": {
      "codemirror_mode": {
        "name": "ipython",
        "version": 3
      },
      "file_extension": ".py",
      "mimetype": "text/x-python",
      "name": "python",
      "nbconvert_exporter": "python",
      "pygments_lexer": "ipython3",
      "version": "3.8.10"
    },
    "papermill": {
      "default_parameters": {},
      "duration": 15.615896,
      "end_time": "2023-01-28T07:02:06.803424",
      "environment_variables": {},
      "exception": null,
      "input_path": "__notebook__.ipynb",
      "output_path": "__notebook__.ipynb",
      "parameters": {},
      "start_time": "2023-01-28T07:01:51.187528",
      "version": "2.3.4"
    }
  },
  "nbformat": 4,
  "nbformat_minor": 5
}